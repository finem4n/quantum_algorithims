{
 "cells": [
  {
   "cell_type": "markdown",
   "source": "### Simon's Algorithm",
   "metadata": {
    "formattedRanges": [],
    "tags": [],
    "is_collapsed": false,
    "cell_id": "ca039dca-6a43-4bd2-afc6-c5125f5b6c70",
    "deepnote_cell_type": "text-cell-h3"
   }
  },
  {
   "cell_type": "markdown",
   "source": "In this case with have a function that can be wheter *one-to-one* or *two-to-one*. Classicaly, to determine which one it is we have to check up to  $2^{n-1}+1$ outputs. In best case using special classical algorithm it can be reduced in the order fo cumputational complexity to $O(2^{n/2})$, but it grows exponentially with $n$ anyway. Luckily, we can use a quantum algorithm that requires $\\approx n$ steps to get a system of equations (complexity of $O(n^3)$) from which it can be determined. In other words, it can really speed-up the process especially with big register due to the cubic growth of the complexity.",
   "metadata": {
    "cell_id": "b9c22f419b9e4ddd9241388d82e6dae9",
    "tags": [],
    "deepnote_cell_type": "markdown",
    "deepnote_cell_height": 343.46875
   }
  },
  {
   "cell_type": "code",
   "metadata": {
    "tags": [],
    "deepnote_to_be_reexecuted": false,
    "source_hash": "96e2a67",
    "execution_start": 1655481126935,
    "execution_millis": 712,
    "cell_id": "00001-c6299227-f81e-40c8-b863-8f4b5b9339c2",
    "deepnote_cell_type": "code",
    "deepnote_cell_height": 153
   },
   "source": "from openql import openql as ql\nimport hisplot as hp\nimport matplotlib.pyplot as plt\nimport numpy as np\nimport os",
   "execution_count": null,
   "outputs": []
  },
  {
   "cell_type": "code",
   "metadata": {
    "tags": [],
    "deepnote_to_be_reexecuted": false,
    "source_hash": "87363e57",
    "execution_start": 1655481127652,
    "execution_millis": 5,
    "cell_id": "00002-789360de-05b2-4fdb-b446-94be16aa11a9",
    "deepnote_cell_type": "code",
    "deepnote_cell_height": 135
   },
   "source": "rootDir = os.path.dirname(os.path.realpath(\"simon.ipynb\"))\ncurdir = os.path.dirname(\"simon.ipynb\")\noutput_dir = os.path.join(curdir, 'simon_output')\nnum_qubits = 6",
   "execution_count": null,
   "outputs": []
  },
  {
   "cell_type": "code",
   "metadata": {
    "tags": [],
    "deepnote_to_be_reexecuted": false,
    "source_hash": "d57c6c2",
    "execution_start": 1655481127662,
    "execution_millis": 4,
    "cell_id": "00003-f9cdf16e-14ee-4adc-83f2-c8f563d0b17d",
    "deepnote_cell_type": "code",
    "deepnote_cell_height": 189
   },
   "source": "ql.set_option('output_dir', output_dir)\n\nplatform = ql.Platform('platform', 'none')\nkernel = ql.Kernel('simon_kernel', platform, num_qubits)\n\nprogram = ql.Program('simon', platform, num_qubits)\n",
   "execution_count": null,
   "outputs": []
  },
  {
   "cell_type": "markdown",
   "source": "**Initializing**",
   "metadata": {
    "cell_id": "afd3da4520b84421bec5bc16292d0b31",
    "tags": [],
    "deepnote_cell_type": "markdown",
    "deepnote_cell_height": 52.390625
   }
  },
  {
   "cell_type": "code",
   "metadata": {
    "tags": [],
    "deepnote_to_be_reexecuted": false,
    "source_hash": "b469153b",
    "execution_start": 1655481127668,
    "execution_millis": 4,
    "cell_id": "00004-63e903fc-0fbc-4cf7-9afd-a4438ff648fd",
    "deepnote_cell_type": "code",
    "deepnote_cell_height": 117
   },
   "source": "kernel.hadamard(0)\nkernel.hadamard(1)\nkernel.hadamard(2)",
   "execution_count": null,
   "outputs": []
  },
  {
   "cell_type": "markdown",
   "source": "**Oracle** <br>for\nb = 110",
   "metadata": {
    "cell_id": "0d92037aa3bf4019abbc881f2e879d49",
    "tags": [],
    "deepnote_cell_type": "markdown",
    "deepnote_cell_height": 74.78125
   }
  },
  {
   "cell_type": "code",
   "metadata": {
    "tags": [],
    "deepnote_to_be_reexecuted": false,
    "source_hash": "df230650",
    "execution_start": 1655481127675,
    "execution_millis": 3,
    "cell_id": "00005-0023327e-22c1-426b-88f7-c5d5e5be6cf7",
    "owner_user_id": "8a33e656-f8d0-4e06-8263-ef17aee7f006",
    "deepnote_cell_type": "code",
    "deepnote_cell_height": 189
   },
   "source": "kernel.cnot(0,3)\nkernel.cnot(1,4)\nkernel.cnot(2,5)\n\nkernel.cnot(0,3)\nkernel.cnot(0,4)\n",
   "execution_count": null,
   "outputs": []
  },
  {
   "cell_type": "markdown",
   "source": "**Diffuser**",
   "metadata": {
    "cell_id": "46074dae68a44fa5be4f3aefccdf02c8",
    "tags": [],
    "deepnote_cell_type": "markdown",
    "deepnote_cell_height": 52.390625
   }
  },
  {
   "cell_type": "code",
   "metadata": {
    "cell_id": "860c897c90784577a23033b7929128ea",
    "tags": [],
    "deepnote_to_be_reexecuted": false,
    "source_hash": "b469153b",
    "execution_start": 1655481127681,
    "execution_millis": 4,
    "deepnote_cell_type": "code",
    "deepnote_cell_height": 117
   },
   "source": "kernel.hadamard(0)\nkernel.hadamard(1)\nkernel.hadamard(2)",
   "execution_count": null,
   "outputs": []
  },
  {
   "cell_type": "markdown",
   "source": "**Measurements**",
   "metadata": {
    "cell_id": "d71a292483d243e0a2369f18e2e60bad",
    "tags": [],
    "deepnote_cell_type": "markdown",
    "deepnote_cell_height": 52.390625
   }
  },
  {
   "cell_type": "code",
   "metadata": {
    "tags": [],
    "deepnote_to_be_reexecuted": false,
    "source_hash": "57eff5e2",
    "execution_start": 1655481127687,
    "execution_millis": 3,
    "cell_id": "00006-0c216f82-08df-4584-8050-8263bbbe1c0d",
    "deepnote_cell_type": "code",
    "deepnote_cell_height": 117
   },
   "source": "kernel.measure(0)\nkernel.measure(1)\nkernel.measure(2)",
   "execution_count": null,
   "outputs": []
  },
  {
   "cell_type": "code",
   "metadata": {
    "tags": [],
    "deepnote_to_be_reexecuted": false,
    "source_hash": "1ebf441",
    "execution_start": 1655481127696,
    "execution_millis": 7,
    "cell_id": "00007-92d40cb9-5a9d-403b-acea-f84c0e86f1eb",
    "deepnote_cell_type": "code",
    "deepnote_cell_height": 99
   },
   "source": "program.add_kernel(kernel)\nprogram.compile()",
   "execution_count": null,
   "outputs": []
  },
  {
   "cell_type": "markdown",
   "source": "**Simulation**",
   "metadata": {
    "cell_id": "5d32420670374e4b9545c1d35db34c1f",
    "tags": [],
    "deepnote_cell_type": "markdown",
    "deepnote_cell_height": 52.390625
   }
  },
  {
   "cell_type": "code",
   "metadata": {
    "tags": [],
    "deepnote_to_be_reexecuted": false,
    "source_hash": "211edf9e",
    "execution_start": 1655481127707,
    "execution_millis": 1252,
    "cell_id": "00008-295d996a-d583-4780-b969-af37c47042e9",
    "deepnote_cell_type": "code",
    "deepnote_cell_height": 369
   },
   "source": "import qxelarator\nfrom functools import reduce\n\nqx = qxelarator.QX()\nqx.set('simon_output/simon.qasm')\n\nntests = 10000\nresults = []\n\nnmeasure = 3\n\nfor i in range(ntests):\n    qx.execute()\n    res = [int(qx.get_measurement_outcome(q)) for q in range(nmeasure)]\n    result = reduce(lambda x, y: x + str(y), res, \"|\") + \"⟩\"\n    results.append(result)\n    ",
   "execution_count": null,
   "outputs": []
  },
  {
   "cell_type": "code",
   "metadata": {
    "tags": [],
    "deepnote_to_be_reexecuted": false,
    "source_hash": "330da636",
    "execution_start": 1655481128959,
    "execution_millis": 252,
    "cell_id": "00009-0ab95e38-1eba-43d8-86e0-a5d6625f69ab",
    "deepnote_cell_type": "code",
    "deepnote_cell_height": 378,
    "deepnote_output_heights": [
     281
    ]
   },
   "source": "hp.plot_histogram(results)",
   "execution_count": null,
   "outputs": [
    {
     "data": {
      "text/plain": "<Figure size 432x288 with 1 Axes>",
      "image/png": "[encoded data removed]"
     },
     "metadata": {
      "needs_background": "light",
      "image/png": {
       "width": 392,
       "height": 279
      }
     },
     "output_type": "display_data"
    }
   ]
  },
  {
   "cell_type": "markdown",
   "source": "These results allows to recover the value of $b$ string by solving system of equtions where: $b\\cdot result_n = 0$",
   "metadata": {
    "cell_id": "eb992e1e83e84e6b8319c2f1df89107e",
    "tags": [],
    "owner_user_id": "f7367d93-0a31-43e2-908d-e60e4ef8131b",
    "deepnote_cell_type": "markdown",
    "deepnote_cell_height": 97.171875
   }
  },
  {
   "cell_type": "markdown",
   "source": "<a style='text-decoration:none;line-height:16px;display:flex;color:#5B5B62;padding:10px;justify-content:end;' href='https://deepnote.com?utm_source=created-in-deepnote-cell&projectId=6ee9a0e1-5142-4a5e-b221-8d22021093a4' target=\"_blank\">\n<img alt='Created in deepnote.com' style='display:inline;max-height:16px;margin:0px;margin-right:7.5px;' src='data:image/svg+xml;base64,PD94bWwgdmVyc2lvbj0iMS4wIiBlbmNvZGluZz0iVVRGLTgiPz4KPHN2ZyB3aWR0aD0iODBweCIgaGVpZ2h0PSI4MHB4IiB2aWV3Qm94PSIwIDAgODAgODAiIHZlcnNpb249IjEuMSIgeG1sbnM9Imh0dHA6Ly93d3cudzMub3JnLzIwMDAvc3ZnIiB4bWxuczp4bGluaz0iaHR0cDovL3d3dy53My5vcmcvMTk5OS94bGluayI+CiAgICA8IS0tIEdlbmVyYXRvcjogU2tldGNoIDU0LjEgKDc2NDkwKSAtIGh0dHBzOi8vc2tldGNoYXBwLmNvbSAtLT4KICAgIDx0aXRsZT5Hcm91cCAzPC90aXRsZT4KICAgIDxkZXNjPkNyZWF0ZWQgd2l0aCBTa2V0Y2guPC9kZXNjPgogICAgPGcgaWQ9IkxhbmRpbmciIHN0cm9rZT0ibm9uZSIgc3Ryb2tlLXdpZHRoPSIxIiBmaWxsPSJub25lIiBmaWxsLXJ1bGU9ImV2ZW5vZGQiPgogICAgICAgIDxnIGlkPSJBcnRib2FyZCIgdHJhbnNmb3JtPSJ0cmFuc2xhdGUoLTEyMzUuMDAwMDAwLCAtNzkuMDAwMDAwKSI+CiAgICAgICAgICAgIDxnIGlkPSJHcm91cC0zIiB0cmFuc2Zvcm09InRyYW5zbGF0ZSgxMjM1LjAwMDAwMCwgNzkuMDAwMDAwKSI+CiAgICAgICAgICAgICAgICA8cG9seWdvbiBpZD0iUGF0aC0yMCIgZmlsbD0iIzAyNjVCNCIgcG9pbnRzPSIyLjM3NjIzNzYyIDgwIDM4LjA0NzY2NjcgODAgNTcuODIxNzgyMiA3My44MDU3NTkyIDU3LjgyMTc4MjIgMzIuNzU5MjczOSAzOS4xNDAyMjc4IDMxLjY4MzE2ODMiPjwvcG9seWdvbj4KICAgICAgICAgICAgICAgIDxwYXRoIGQ9Ik0zNS4wMDc3MTgsODAgQzQyLjkwNjIwMDcsNzYuNDU0OTM1OCA0Ny41NjQ5MTY3LDcxLjU0MjI2NzEgNDguOTgzODY2LDY1LjI2MTk5MzkgQzUxLjExMjI4OTksNTUuODQxNTg0MiA0MS42NzcxNzk1LDQ5LjIxMjIyODQgMjUuNjIzOTg0Niw0OS4yMTIyMjg0IEMyNS40ODQ5Mjg5LDQ5LjEyNjg0NDggMjkuODI2MTI5Niw0My4yODM4MjQ4IDM4LjY0NzU4NjksMzEuNjgzMTY4MyBMNzIuODcxMjg3MSwzMi41NTQ0MjUgTDY1LjI4MDk3Myw2Ny42NzYzNDIxIEw1MS4xMTIyODk5LDc3LjM3NjE0NCBMMzUuMDA3NzE4LDgwIFoiIGlkPSJQYXRoLTIyIiBmaWxsPSIjMDAyODY4Ij48L3BhdGg+CiAgICAgICAgICAgICAgICA8cGF0aCBkPSJNMCwzNy43MzA0NDA1IEwyNy4xMTQ1MzcsMC4yNTcxMTE0MzYgQzYyLjM3MTUxMjMsLTEuOTkwNzE3MDEgODAsMTAuNTAwMzkyNyA4MCwzNy43MzA0NDA1IEM4MCw2NC45NjA0ODgyIDY0Ljc3NjUwMzgsNzkuMDUwMzQxNCAzNC4zMjk1MTEzLDgwIEM0Ny4wNTUzNDg5LDc3LjU2NzA4MDggNTMuNDE4MjY3Nyw3MC4zMTM2MTAzIDUzLjQxODI2NzcsNTguMjM5NTg4NSBDNTMuNDE4MjY3Nyw0MC4xMjg1NTU3IDM2LjMwMzk1NDQsMzcuNzMwNDQwNSAyNS4yMjc0MTcsMzcuNzMwNDQwNSBDMTcuODQzMDU4NiwzNy43MzA0NDA1IDkuNDMzOTE5NjYsMzcuNzMwNDQwNSAwLDM3LjczMDQ0MDUgWiIgaWQ9IlBhdGgtMTkiIGZpbGw9IiMzNzkzRUYiPjwvcGF0aD4KICAgICAgICAgICAgPC9nPgogICAgICAgIDwvZz4KICAgIDwvZz4KPC9zdmc+' > </img>\nCreated in <span style='font-weight:600;margin-left:4px;'>Deepnote</span></a>",
   "metadata": {
    "tags": [],
    "created_in_deepnote_cell": true,
    "deepnote_cell_type": "markdown"
   }
  }
 ],
 "nbformat": 4,
 "nbformat_minor": 2,
 "metadata": {
  "orig_nbformat": 2,
  "deepnote": {},
  "deepnote_notebook_id": "ffe10abe-7fe9-4a7e-923a-75ec3f8286a8",
  "deepnote_execution_queue": []
 }
}