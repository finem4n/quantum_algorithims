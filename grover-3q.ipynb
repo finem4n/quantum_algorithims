{
 "cells": [
  {
   "cell_type": "markdown",
   "source": "### Grover's Algorithm in 3 qubits case",
   "metadata": {
    "formattedRanges": [],
    "cell_id": "adceec34828648759e9989e86cefa154",
    "tags": [],
    "is_collapsed": false,
    "deepnote_cell_type": "text-cell-h3"
   }
  },
  {
   "cell_type": "markdown",
   "source": "In this case we have 3 qubits and two states win.",
   "metadata": {
    "cell_id": "46934cc6cb1a4212aba37fa366b7ed17",
    "tags": [],
    "deepnote_cell_type": "markdown",
    "deepnote_cell_height": 52.390625
   }
  },
  {
   "cell_type": "code",
   "metadata": {
    "tags": [],
    "cell_id": "047b5461-3190-423e-9ea6-c53d4161df47",
    "deepnote_to_be_reexecuted": false,
    "source_hash": "96e2a67",
    "execution_start": 1655481083979,
    "execution_millis": 633,
    "deepnote_cell_type": "code",
    "deepnote_cell_height": 153
   },
   "source": "from openql import openql as ql\nimport hisplot as hp\nimport matplotlib.pyplot as plt\nimport numpy as np\nimport os",
   "outputs": [],
   "execution_count": null
  },
  {
   "cell_type": "code",
   "metadata": {
    "cell_id": "0af404be8b13466bbf5115674301daa9",
    "tags": [],
    "deepnote_to_be_reexecuted": false,
    "source_hash": "5372f97a",
    "execution_start": 1655481084618,
    "execution_millis": 8,
    "deepnote_cell_type": "code",
    "deepnote_cell_height": 135
   },
   "source": "rootDir = os.path.dirname(os.path.realpath(\"grover-3q.ipynb\"))\ncurdir = os.path.dirname(\"grover-3q.ipynb\")\noutput_dir = os.path.join(curdir, 'grover-3q_output')\nnum_qubits = 3",
   "outputs": [],
   "execution_count": null
  },
  {
   "cell_type": "code",
   "metadata": {
    "cell_id": "2dfb5851660e49c29321d9949fbd3c9f",
    "tags": [],
    "deepnote_to_be_reexecuted": false,
    "source_hash": "9a60a14d",
    "execution_start": 1655481084637,
    "execution_millis": 0,
    "deepnote_cell_type": "code",
    "deepnote_cell_height": 189
   },
   "source": "ql.set_option('output_dir', output_dir)\n\nplatform = ql.Platform('platform', 'none')\nkernel = ql.Kernel('grover_kernel', platform, num_qubits)\n\nprogram = ql.Program('grover', platform, num_qubits)\n",
   "outputs": [],
   "execution_count": null
  },
  {
   "cell_type": "markdown",
   "source": "Initializing",
   "metadata": {
    "cell_id": "2a5212ce679643ed807b2f2e348e70db",
    "tags": [],
    "deepnote_cell_type": "markdown",
    "deepnote_cell_height": 52.390625
   }
  },
  {
   "cell_type": "code",
   "metadata": {
    "cell_id": "d9a25e1914f04dc9bf5caca60d7e13f7",
    "tags": [],
    "deepnote_to_be_reexecuted": false,
    "source_hash": "b469153b",
    "execution_start": 1655481084637,
    "execution_millis": 6,
    "deepnote_cell_type": "code",
    "deepnote_cell_height": 117
   },
   "source": "kernel.hadamard(0)\nkernel.hadamard(1)\nkernel.hadamard(2)",
   "outputs": [],
   "execution_count": null
  },
  {
   "cell_type": "markdown",
   "source": "Marking |110⟩ and |101⟩ state (Oracle)",
   "metadata": {
    "cell_id": "d90cf919f8dc439a97b372d79fdd8aed",
    "tags": [],
    "deepnote_cell_type": "markdown",
    "deepnote_cell_height": 52.390625
   }
  },
  {
   "cell_type": "code",
   "source": "kernel.cz(0, 2) \nkernel.cz(0, 1)",
   "metadata": {
    "cell_id": "c3e2b7dec0fe45899fc50bc22c0905f5",
    "tags": [],
    "deepnote_to_be_reexecuted": false,
    "source_hash": "b7dba705",
    "execution_start": 1655481084645,
    "execution_millis": 0,
    "deepnote_cell_type": "code",
    "deepnote_cell_height": 99
   },
   "outputs": [],
   "execution_count": null
  },
  {
   "cell_type": "markdown",
   "source": "Diffuser",
   "metadata": {
    "cell_id": "5ad0eda074a141a0aee220c332d1eeb5",
    "tags": [],
    "deepnote_cell_type": "markdown",
    "deepnote_cell_height": 52.390625
   }
  },
  {
   "cell_type": "code",
   "metadata": {
    "cell_id": "946ffaca6a974ac8b96551d0505362b2",
    "tags": [],
    "deepnote_to_be_reexecuted": false,
    "source_hash": "463f999f",
    "execution_start": 1655481084674,
    "execution_millis": 1,
    "deepnote_cell_type": "code",
    "deepnote_cell_height": 423
   },
   "source": "kernel.hadamard(0)\nkernel.hadamard(1)\nkernel.hadamard(2)\n\nkernel.x(0)\nkernel.x(1)\nkernel.x(2)\n\n# multi cz\nkernel.hadamard(0)\nkernel.toffoli(2,1,0)\nkernel.hadamard(0)\n\nkernel.x(0)\nkernel.x(1)\nkernel.x(2)\n\nkernel.hadamard(0)\nkernel.hadamard(1)\nkernel.hadamard(2)",
   "outputs": [],
   "execution_count": null
  },
  {
   "cell_type": "markdown",
   "source": "Measurements",
   "metadata": {
    "cell_id": "4ddb32090f104bba966100b788006e93",
    "tags": [],
    "deepnote_cell_type": "markdown",
    "deepnote_cell_height": 52.390625
   }
  },
  {
   "cell_type": "code",
   "metadata": {
    "cell_id": "21f6c640228a463c86193714ac849387",
    "tags": [],
    "deepnote_to_be_reexecuted": false,
    "source_hash": "57eff5e2",
    "execution_start": 1655481084675,
    "execution_millis": 0,
    "deepnote_cell_type": "code",
    "deepnote_cell_height": 117
   },
   "source": "kernel.measure(0)\nkernel.measure(1)\nkernel.measure(2)",
   "outputs": [],
   "execution_count": null
  },
  {
   "cell_type": "code",
   "metadata": {
    "cell_id": "d8a064a8ce164bdf958664f911ae312a",
    "tags": [],
    "deepnote_to_be_reexecuted": false,
    "source_hash": "1ebf441",
    "execution_start": 1655481084676,
    "execution_millis": 0,
    "deepnote_cell_type": "code",
    "deepnote_cell_height": 99
   },
   "source": "program.add_kernel(kernel)\nprogram.compile()",
   "outputs": [],
   "execution_count": null
  },
  {
   "cell_type": "markdown",
   "source": "Simulation",
   "metadata": {
    "cell_id": "73681614f5ae457ea5a14bfdd630d548",
    "tags": [],
    "deepnote_cell_type": "markdown",
    "deepnote_cell_height": 52.390625
   }
  },
  {
   "cell_type": "code",
   "metadata": {
    "cell_id": "bf597af416214d0c8ef3c62fc1fce134",
    "tags": [],
    "deepnote_to_be_reexecuted": false,
    "source_hash": "2620e878",
    "execution_start": 1655481084678,
    "execution_millis": 178,
    "deepnote_cell_type": "code",
    "deepnote_cell_height": 333
   },
   "source": "import qxelarator\nfrom functools import reduce\n\nqx = qxelarator.QX()\nqx.set('grover-3q_output/grover.qasm')\n\nntests = 1000\nresults = []\n\nfor i in range(ntests):\n    qx.execute()\n    res = [int(qx.get_measurement_outcome(q)) for q in range(num_qubits)]\n    result = reduce(lambda x, y: x + str(y), res, \"|\") + \"⟩\"\n    results.append(result)\n    ",
   "outputs": [],
   "execution_count": null
  },
  {
   "cell_type": "code",
   "metadata": {
    "cell_id": "98c6dafdcb0b44ba97305b45da6bc385",
    "tags": [],
    "deepnote_to_be_reexecuted": false,
    "source_hash": "330da636",
    "execution_start": 1655481084863,
    "execution_millis": 514,
    "deepnote_cell_type": "code",
    "deepnote_cell_height": 378,
    "deepnote_output_heights": [
     281
    ]
   },
   "source": "hp.plot_histogram(results)",
   "outputs": [
    {
     "data": {
      "text/plain": "<Figure size 432x288 with 1 Axes>",
      "image/png": "[encoded data removed]"
     },
     "metadata": {
      "needs_background": "light",
      "image/png": {
       "width": 386,
       "height": 279
      }
     },
     "output_type": "display_data"
    }
   ],
   "execution_count": null
  },
  {
   "cell_type": "markdown",
   "source": "Wniosek",
   "metadata": {
    "cell_id": "591af883b8034249852dd8967fef6f68",
    "tags": [],
    "owner_user_id": "f7367d93-0a31-43e2-908d-e60e4ef8131b",
    "deepnote_cell_type": "markdown",
    "deepnote_cell_height": 52.390625
   }
  },
  {
   "cell_type": "markdown",
   "source": "<a style='text-decoration:none;line-height:16px;display:flex;color:#5B5B62;padding:10px;justify-content:end;' href='https://deepnote.com?utm_source=created-in-deepnote-cell&projectId=6ee9a0e1-5142-4a5e-b221-8d22021093a4' target=\"_blank\">\n<img alt='Created in deepnote.com' style='display:inline;max-height:16px;margin:0px;margin-right:7.5px;' src='data:image/svg+xml;base64,PD94bWwgdmVyc2lvbj0iMS4wIiBlbmNvZGluZz0iVVRGLTgiPz4KPHN2ZyB3aWR0aD0iODBweCIgaGVpZ2h0PSI4MHB4IiB2aWV3Qm94PSIwIDAgODAgODAiIHZlcnNpb249IjEuMSIgeG1sbnM9Imh0dHA6Ly93d3cudzMub3JnLzIwMDAvc3ZnIiB4bWxuczp4bGluaz0iaHR0cDovL3d3dy53My5vcmcvMTk5OS94bGluayI+CiAgICA8IS0tIEdlbmVyYXRvcjogU2tldGNoIDU0LjEgKDc2NDkwKSAtIGh0dHBzOi8vc2tldGNoYXBwLmNvbSAtLT4KICAgIDx0aXRsZT5Hcm91cCAzPC90aXRsZT4KICAgIDxkZXNjPkNyZWF0ZWQgd2l0aCBTa2V0Y2guPC9kZXNjPgogICAgPGcgaWQ9IkxhbmRpbmciIHN0cm9rZT0ibm9uZSIgc3Ryb2tlLXdpZHRoPSIxIiBmaWxsPSJub25lIiBmaWxsLXJ1bGU9ImV2ZW5vZGQiPgogICAgICAgIDxnIGlkPSJBcnRib2FyZCIgdHJhbnNmb3JtPSJ0cmFuc2xhdGUoLTEyMzUuMDAwMDAwLCAtNzkuMDAwMDAwKSI+CiAgICAgICAgICAgIDxnIGlkPSJHcm91cC0zIiB0cmFuc2Zvcm09InRyYW5zbGF0ZSgxMjM1LjAwMDAwMCwgNzkuMDAwMDAwKSI+CiAgICAgICAgICAgICAgICA8cG9seWdvbiBpZD0iUGF0aC0yMCIgZmlsbD0iIzAyNjVCNCIgcG9pbnRzPSIyLjM3NjIzNzYyIDgwIDM4LjA0NzY2NjcgODAgNTcuODIxNzgyMiA3My44MDU3NTkyIDU3LjgyMTc4MjIgMzIuNzU5MjczOSAzOS4xNDAyMjc4IDMxLjY4MzE2ODMiPjwvcG9seWdvbj4KICAgICAgICAgICAgICAgIDxwYXRoIGQ9Ik0zNS4wMDc3MTgsODAgQzQyLjkwNjIwMDcsNzYuNDU0OTM1OCA0Ny41NjQ5MTY3LDcxLjU0MjI2NzEgNDguOTgzODY2LDY1LjI2MTk5MzkgQzUxLjExMjI4OTksNTUuODQxNTg0MiA0MS42NzcxNzk1LDQ5LjIxMjIyODQgMjUuNjIzOTg0Niw0OS4yMTIyMjg0IEMyNS40ODQ5Mjg5LDQ5LjEyNjg0NDggMjkuODI2MTI5Niw0My4yODM4MjQ4IDM4LjY0NzU4NjksMzEuNjgzMTY4MyBMNzIuODcxMjg3MSwzMi41NTQ0MjUgTDY1LjI4MDk3Myw2Ny42NzYzNDIxIEw1MS4xMTIyODk5LDc3LjM3NjE0NCBMMzUuMDA3NzE4LDgwIFoiIGlkPSJQYXRoLTIyIiBmaWxsPSIjMDAyODY4Ij48L3BhdGg+CiAgICAgICAgICAgICAgICA8cGF0aCBkPSJNMCwzNy43MzA0NDA1IEwyNy4xMTQ1MzcsMC4yNTcxMTE0MzYgQzYyLjM3MTUxMjMsLTEuOTkwNzE3MDEgODAsMTAuNTAwMzkyNyA4MCwzNy43MzA0NDA1IEM4MCw2NC45NjA0ODgyIDY0Ljc3NjUwMzgsNzkuMDUwMzQxNCAzNC4zMjk1MTEzLDgwIEM0Ny4wNTUzNDg5LDc3LjU2NzA4MDggNTMuNDE4MjY3Nyw3MC4zMTM2MTAzIDUzLjQxODI2NzcsNTguMjM5NTg4NSBDNTMuNDE4MjY3Nyw0MC4xMjg1NTU3IDM2LjMwMzk1NDQsMzcuNzMwNDQwNSAyNS4yMjc0MTcsMzcuNzMwNDQwNSBDMTcuODQzMDU4NiwzNy43MzA0NDA1IDkuNDMzOTE5NjYsMzcuNzMwNDQwNSAwLDM3LjczMDQ0MDUgWiIgaWQ9IlBhdGgtMTkiIGZpbGw9IiMzNzkzRUYiPjwvcGF0aD4KICAgICAgICAgICAgPC9nPgogICAgICAgIDwvZz4KICAgIDwvZz4KPC9zdmc+' > </img>\nCreated in <span style='font-weight:600;margin-left:4px;'>Deepnote</span></a>",
   "metadata": {
    "tags": [],
    "created_in_deepnote_cell": true,
    "deepnote_cell_type": "markdown"
   }
  }
 ],
 "nbformat": 4,
 "nbformat_minor": 2,
 "metadata": {
  "orig_nbformat": 2,
  "deepnote": {},
  "deepnote_notebook_id": "752e35d2-9a6b-4cf9-95ff-eaf9dfb34584",
  "deepnote_execution_queue": []
 }
}