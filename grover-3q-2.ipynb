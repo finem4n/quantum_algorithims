{
 "cells": [
  {
   "cell_type": "markdown",
   "source": "### Grover's Algorithm in 3 qubits case",
   "metadata": {
    "formattedRanges": [],
    "tags": [],
    "is_collapsed": false,
    "cell_id": "f03b9e63-a40b-42da-9985-3c8a2b8c5c31",
    "deepnote_cell_type": "text-cell-h3"
   }
  },
  {
   "cell_type": "markdown",
   "source": "In this case we have 3 qubit and two of them win.",
   "metadata": {
    "tags": [],
    "cell_id": "00001-28b5a698-cf7c-4335-9b13-a2299b2026f3",
    "deepnote_cell_type": "markdown",
    "deepnote_cell_height": 74.78125
   }
  },
  {
   "cell_type": "code",
   "metadata": {
    "tags": [],
    "deepnote_to_be_reexecuted": false,
    "source_hash": "96e2a67",
    "execution_start": 1655767552567,
    "execution_millis": 1604,
    "cell_id": "00002-7a1a90d5-3395-4234-9705-035af42a34c7",
    "deepnote_cell_type": "code",
    "deepnote_cell_height": 153
   },
   "source": "from openql import openql as ql\nimport hisplot as hp\nimport matplotlib.pyplot as plt\nimport numpy as np\nimport os",
   "outputs": [],
   "execution_count": null
  },
  {
   "cell_type": "code",
   "metadata": {
    "tags": [],
    "deepnote_to_be_reexecuted": false,
    "source_hash": "9688bac2",
    "execution_start": 1655767554176,
    "execution_millis": 10,
    "cell_id": "00003-4ecebcb6-2b94-42c1-a0fe-1c53b3261e11",
    "deepnote_cell_type": "code",
    "deepnote_cell_height": 135
   },
   "source": "rootDir = os.path.dirname(os.path.realpath(\"grover-3q-2.ipynb\"))\ncurdir = os.path.dirname(\"grover-3q-2.ipynb\")\noutput_dir = os.path.join(curdir, 'grover-3q-2_output')\nnum_qubits = 3",
   "outputs": [],
   "execution_count": null
  },
  {
   "cell_type": "code",
   "metadata": {
    "tags": [],
    "deepnote_to_be_reexecuted": false,
    "source_hash": "9a60a14d",
    "execution_start": 1655767554191,
    "execution_millis": 9,
    "cell_id": "00004-db7f659e-25ab-4397-8e96-3ba361b8341a",
    "deepnote_cell_type": "code",
    "deepnote_cell_height": 189
   },
   "source": "ql.set_option('output_dir', output_dir)\n\nplatform = ql.Platform('platform', 'none')\nkernel = ql.Kernel('grover_kernel', platform, num_qubits)\n\nprogram = ql.Program('grover', platform, num_qubits)\n",
   "outputs": [],
   "execution_count": null
  },
  {
   "cell_type": "markdown",
   "source": "**Initializing** <br>\nInitializing register as a superposition of all states",
   "metadata": {
    "tags": [],
    "cell_id": "00005-2a5e4e17-7833-4cc8-a099-4da8825b6aeb",
    "deepnote_cell_type": "markdown",
    "deepnote_cell_height": 97.171875
   }
  },
  {
   "cell_type": "code",
   "metadata": {
    "tags": [],
    "deepnote_to_be_reexecuted": false,
    "source_hash": "b469153b",
    "execution_start": 1655767554207,
    "execution_millis": 7,
    "cell_id": "00006-75b6069f-480e-4eea-a1c7-37bd5413961f",
    "deepnote_cell_type": "code",
    "deepnote_cell_height": 117
   },
   "source": "kernel.hadamard(0)\nkernel.hadamard(1)\nkernel.hadamard(2)",
   "outputs": [],
   "execution_count": null
  },
  {
   "cell_type": "markdown",
   "source": "**Oracle** <br>\nMarking |110⟩ and |101⟩ state",
   "metadata": {
    "tags": [],
    "cell_id": "00007-11f02464-c638-475f-9f03-ea3453ebb182",
    "deepnote_cell_type": "markdown",
    "deepnote_cell_height": 74.78125
   }
  },
  {
   "cell_type": "code",
   "metadata": {
    "tags": [],
    "deepnote_to_be_reexecuted": false,
    "source_hash": "b7dba705",
    "execution_start": 1655767554221,
    "execution_millis": 55,
    "cell_id": "00008-976178af-55de-4741-8eb3-93fbe4d71012",
    "deepnote_cell_type": "code",
    "deepnote_cell_height": 99
   },
   "source": "kernel.cz(0, 2) \nkernel.cz(0, 1)",
   "outputs": [],
   "execution_count": null
  },
  {
   "cell_type": "markdown",
   "source": "**Diffuser**",
   "metadata": {
    "tags": [],
    "cell_id": "00009-b494e1a2-7486-4d20-9a29-3bb3df60cca7",
    "deepnote_cell_type": "markdown",
    "deepnote_cell_height": 52.390625
   }
  },
  {
   "cell_type": "code",
   "metadata": {
    "tags": [],
    "deepnote_to_be_reexecuted": false,
    "source_hash": "463f999f",
    "execution_start": 1655767554276,
    "execution_millis": 1,
    "cell_id": "00010-1cdddc5b-71a3-44a0-804d-f1a5fce52954",
    "deepnote_cell_type": "code",
    "deepnote_cell_height": 423
   },
   "source": "kernel.hadamard(0)\nkernel.hadamard(1)\nkernel.hadamard(2)\n\nkernel.x(0)\nkernel.x(1)\nkernel.x(2)\n\n# multi cz\nkernel.hadamard(0)\nkernel.toffoli(2,1,0)\nkernel.hadamard(0)\n\nkernel.x(0)\nkernel.x(1)\nkernel.x(2)\n\nkernel.hadamard(0)\nkernel.hadamard(1)\nkernel.hadamard(2)",
   "outputs": [],
   "execution_count": null
  },
  {
   "cell_type": "markdown",
   "source": "**Measurements**",
   "metadata": {
    "tags": [],
    "cell_id": "00011-a497acee-a04a-4327-a7ee-fec359cbfc32",
    "deepnote_cell_type": "markdown",
    "deepnote_cell_height": 52.390625
   }
  },
  {
   "cell_type": "code",
   "metadata": {
    "tags": [],
    "deepnote_to_be_reexecuted": false,
    "source_hash": "57eff5e2",
    "execution_start": 1655767554277,
    "execution_millis": 0,
    "cell_id": "00012-eaaef865-77a0-4046-8c24-bb5d4b91efa8",
    "deepnote_cell_type": "code",
    "deepnote_cell_height": 117
   },
   "source": "kernel.measure(0)\nkernel.measure(1)\nkernel.measure(2)",
   "outputs": [],
   "execution_count": null
  },
  {
   "cell_type": "code",
   "metadata": {
    "tags": [],
    "deepnote_to_be_reexecuted": false,
    "source_hash": "1ebf441",
    "execution_start": 1655767554278,
    "execution_millis": 0,
    "cell_id": "00013-38c88689-905d-4093-87b0-07ec5fcf93d5",
    "deepnote_cell_type": "code",
    "deepnote_cell_height": 99
   },
   "source": "program.add_kernel(kernel)\nprogram.compile()",
   "outputs": [],
   "execution_count": null
  },
  {
   "cell_type": "markdown",
   "source": "**Simulation**",
   "metadata": {
    "tags": [],
    "cell_id": "00014-498f88e9-68ca-48a9-8f4e-cddac9e2e02d",
    "owner_user_id": "f7367d93-0a31-43e2-908d-e60e4ef8131b",
    "deepnote_cell_type": "markdown",
    "deepnote_cell_height": 104.390625
   }
  },
  {
   "cell_type": "code",
   "metadata": {
    "tags": [],
    "deepnote_to_be_reexecuted": false,
    "source_hash": "6e4691d6",
    "execution_start": 1655767554318,
    "execution_millis": 10854,
    "cell_id": "00015-af244f2b-2d8d-4418-8acc-391e80522391",
    "deepnote_cell_type": "code",
    "deepnote_cell_height": 333
   },
   "source": "import qxelarator\nfrom functools import reduce\n\nqx = qxelarator.QX()\nqx.set('grover-3q-2_output/grover.qasm')\n\nntests = 1000\nresults = []\n\nfor i in range(ntests):\n    qx.execute()\n    res = [int(qx.get_measurement_outcome(q)) for q in range(num_qubits)]\n    result = reduce(lambda x, y: x + str(y), res, \"|\") + \"⟩\"\n    results.append(result)\n    ",
   "outputs": [],
   "execution_count": null
  },
  {
   "cell_type": "code",
   "metadata": {
    "tags": [],
    "deepnote_to_be_reexecuted": false,
    "source_hash": "330da636",
    "execution_start": 1655767565172,
    "execution_millis": 370,
    "owner_user_id": "8a33e656-f8d0-4e06-8263-ef17aee7f006",
    "cell_id": "00016-7d66220f-893b-495f-8d35-da244583316f",
    "deepnote_cell_type": "code",
    "deepnote_cell_height": 328.84375,
    "deepnote_output_heights": [
     231.84375
    ]
   },
   "source": "hp.plot_histogram(results)",
   "outputs": [
    {
     "data": {
      "text/plain": "<Figure size 432x288 with 1 Axes>",
      "image/png": "[encoded data removed]"
     },
     "metadata": {
      "needs_background": "light",
      "image/png": {
       "width": 386,
       "height": 279
      }
     },
     "output_type": "display_data"
    }
   ],
   "execution_count": null
  },
  {
   "cell_type": "markdown",
   "source": "<a style='text-decoration:none;line-height:16px;display:flex;color:#5B5B62;padding:10px;justify-content:end;' href='https://deepnote.com?utm_source=created-in-deepnote-cell&projectId=6ee9a0e1-5142-4a5e-b221-8d22021093a4' target=\"_blank\">\n<img alt='Created in deepnote.com' style='display:inline;max-height:16px;margin:0px;margin-right:7.5px;' src='data:image/svg+xml;base64,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' > </img>\nCreated in <span style='font-weight:600;margin-left:4px;'>Deepnote</span></a>",
   "metadata": {
    "tags": [],
    "created_in_deepnote_cell": true,
    "deepnote_cell_type": "markdown"
   }
  }
 ],
 "nbformat": 4,
 "nbformat_minor": 2,
 "metadata": {
  "orig_nbformat": 2,
  "deepnote": {},
  "deepnote_notebook_id": "7ce257c9-7023-4b8c-9705-0eea30a01962",
  "deepnote_execution_queue": []
 }
}