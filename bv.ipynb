{
 "cells": [
  {
   "cell_type": "markdown",
   "source": "# Bernstein-Vazirani Algorithm",
   "metadata": {
    "formattedRanges": [],
    "cell_id": "1d4b26e393dc4cfb9b181bca7943cebb",
    "tags": [],
    "is_collapsed": false,
    "deepnote_cell_type": "text-cell-h1"
   }
  },
  {
   "cell_type": "markdown",
   "source": "This algorithm is an extension of the Deutsch-jozsa algorithm. This time the given function is: $f(x)=s\\cdot x(mod \\text{ }2)$, where $x$ is some input and $s$ is the string to be found by the algorithm.",
   "metadata": {
    "cell_id": "fe4919973f264dc5a2958e219b5e5d11",
    "tags": [],
    "owner_user_id": "f7367d93-0a31-43e2-908d-e60e4ef8131b",
    "deepnote_cell_type": "markdown",
    "deepnote_cell_height": 119.5625
   }
  },
  {
   "cell_type": "code",
   "metadata": {
    "tags": [],
    "cell_id": "b9cd4991-5407-47ce-98de-e7012946f2a2",
    "deepnote_to_be_reexecuted": false,
    "source_hash": "96e2a67",
    "execution_start": 1655775865411,
    "execution_millis": 881,
    "deepnote_cell_type": "code",
    "deepnote_cell_height": 153
   },
   "source": "from openql import openql as ql\nimport hisplot as hp\nimport matplotlib.pyplot as plt\nimport numpy as np\nimport os",
   "execution_count": null,
   "outputs": []
  },
  {
   "cell_type": "code",
   "metadata": {
    "cell_id": "13d7bc1093694ebda333293e7cd81dd9",
    "tags": [],
    "deepnote_to_be_reexecuted": false,
    "source_hash": "78fd803f",
    "execution_start": 1655775866296,
    "execution_millis": 6,
    "deepnote_cell_type": "code",
    "deepnote_cell_height": 135
   },
   "source": "rootDir = os.path.dirname(os.path.realpath(\"bv.ipynb\"))\ncurdir = os.path.dirname(\"bv.ipynb\")\noutput_dir = os.path.join(curdir, 'bv_output')\nnum_qubits = 4",
   "execution_count": null,
   "outputs": []
  },
  {
   "cell_type": "code",
   "metadata": {
    "cell_id": "04523554b57749ee9c9cb59a818144cf",
    "tags": [],
    "deepnote_to_be_reexecuted": false,
    "source_hash": "b34aa7db",
    "execution_start": 1655775866302,
    "execution_millis": 4,
    "deepnote_cell_type": "code",
    "deepnote_cell_height": 189
   },
   "source": "ql.set_option('output_dir', output_dir)\n\nplatform = ql.Platform('platform', 'none')\nkernel = ql.Kernel('bv_kernel', platform, num_qubits)\n\nprogram = ql.Program('bv', platform, num_qubits)\n",
   "execution_count": null,
   "outputs": []
  },
  {
   "cell_type": "markdown",
   "source": "**Initializing** <br>\nInitializing main register to zero and the addition qubit is at $|-\\rangle$ state.",
   "metadata": {
    "cell_id": "35e13458e27d4c30850648c471d92e14",
    "tags": [],
    "deepnote_cell_type": "markdown",
    "deepnote_cell_height": 97.171875
   }
  },
  {
   "cell_type": "code",
   "metadata": {
    "cell_id": "fc5586176531453f81f83a2039d8d2d1",
    "tags": [],
    "deepnote_to_be_reexecuted": false,
    "source_hash": "904e5fda",
    "execution_start": 1655775866312,
    "execution_millis": 2,
    "deepnote_cell_type": "code",
    "deepnote_cell_height": 171
   },
   "source": "kernel.hadamard(0)\nkernel.hadamard(1)\nkernel.hadamard(2)\nkernel.hadamard(3)\n\nkernel.z(3)",
   "execution_count": null,
   "outputs": []
  },
  {
   "cell_type": "markdown",
   "source": "**Oracle**<br>\nThe secret string $s$ is set to $011$.",
   "metadata": {
    "cell_id": "bb177fbf2a2a45b38c5e713651259c06",
    "tags": [],
    "deepnote_cell_type": "markdown",
    "deepnote_cell_height": 74.78125
   }
  },
  {
   "cell_type": "code",
   "metadata": {
    "cell_id": "ab7210c08c0c4015a1affca7383586a4",
    "tags": [],
    "deepnote_to_be_reexecuted": false,
    "source_hash": "f83e98d5",
    "execution_start": 1655775866319,
    "execution_millis": 2,
    "deepnote_cell_type": "code",
    "deepnote_cell_height": 117
   },
   "source": "# kernel.cnot(0, 3) #it turns given bit to 1 in the secret string\nkernel.cnot(1, 3)\nkernel.cnot(2, 3)",
   "execution_count": null,
   "outputs": []
  },
  {
   "cell_type": "markdown",
   "source": "**Diffuser**",
   "metadata": {
    "cell_id": "b4fe0f3d4949470c97ffef730edc1159",
    "tags": [],
    "deepnote_cell_type": "markdown",
    "deepnote_cell_height": 52.390625
   }
  },
  {
   "cell_type": "code",
   "metadata": {
    "cell_id": "dfcfb6a4a1ec4b4aa298bb98c83f6b28",
    "tags": [],
    "deepnote_to_be_reexecuted": false,
    "source_hash": "b469153b",
    "execution_start": 1655775866348,
    "execution_millis": 294426216,
    "deepnote_cell_type": "code",
    "deepnote_cell_height": 117
   },
   "source": "kernel.hadamard(0)\nkernel.hadamard(1)\nkernel.hadamard(2)",
   "execution_count": null,
   "outputs": []
  },
  {
   "cell_type": "markdown",
   "source": "**Measurements**",
   "metadata": {
    "cell_id": "99a17cb5e45e4d129f58e50dfa9aa790",
    "tags": [],
    "deepnote_cell_type": "markdown",
    "deepnote_cell_height": 52.390625
   }
  },
  {
   "cell_type": "code",
   "metadata": {
    "cell_id": "0b391d78795c4bd7b363a54d3078e16c",
    "tags": [],
    "deepnote_to_be_reexecuted": false,
    "source_hash": "57eff5e2",
    "execution_start": 1655775866349,
    "execution_millis": 294426163,
    "deepnote_cell_type": "code",
    "deepnote_cell_height": 117
   },
   "source": "kernel.measure(0)\nkernel.measure(1)\nkernel.measure(2)",
   "execution_count": null,
   "outputs": []
  },
  {
   "cell_type": "code",
   "metadata": {
    "cell_id": "5e9579cb613d4a708da310de11cf4e2d",
    "tags": [],
    "deepnote_to_be_reexecuted": false,
    "source_hash": "1ebf441",
    "execution_start": 1655775866349,
    "execution_millis": 0,
    "deepnote_cell_type": "code",
    "deepnote_cell_height": 99
   },
   "source": "program.add_kernel(kernel)\nprogram.compile()",
   "execution_count": null,
   "outputs": []
  },
  {
   "cell_type": "markdown",
   "source": "**Simulation**",
   "metadata": {
    "cell_id": "e76d3e48bf3d4fca90116268db57a708",
    "tags": [],
    "deepnote_cell_type": "markdown",
    "deepnote_cell_height": 52.390625
   }
  },
  {
   "cell_type": "code",
   "metadata": {
    "cell_id": "c9bb841a5c094dcd936ee33195a165d6",
    "tags": [],
    "deepnote_to_be_reexecuted": false,
    "source_hash": "cc73e589",
    "execution_start": 1655775866352,
    "execution_millis": 162,
    "deepnote_cell_type": "code",
    "deepnote_cell_height": 369
   },
   "source": "import qxelarator\nfrom functools import reduce\n\nqx = qxelarator.QX()\nqx.set('bv_output/bv.qasm')\n\nntests = 1000\nresults = []\n\nnmeasure = 3\n\nfor i in range(ntests):\n    qx.execute()\n    # print(qx.get_measurement_outcome(0))\n    res = [int(qx.get_measurement_outcome(q)) for q in range(nmeasure)]\n    result = reduce(lambda x, y: x + str(y), res, \"|\") + \"⟩\"\n    results.append(result)",
   "execution_count": null,
   "outputs": []
  },
  {
   "cell_type": "code",
   "metadata": {
    "cell_id": "722afe25f8c34400900df71439d4e4f3",
    "tags": [],
    "deepnote_to_be_reexecuted": false,
    "source_hash": "330da636",
    "execution_start": 1655775866515,
    "execution_millis": 263,
    "owner_user_id": "8a33e656-f8d0-4e06-8263-ef17aee7f006",
    "deepnote_cell_type": "code",
    "deepnote_cell_height": 378,
    "deepnote_output_heights": [
     231.84375
    ]
   },
   "source": "hp.plot_histogram(results)",
   "execution_count": null,
   "outputs": [
    {
     "data": {
      "text/plain": "<Figure size 432x288 with 1 Axes>",
      "image/png": "[encoded data removed]"
     },
     "metadata": {
      "needs_background": "light",
      "image/png": {
       "width": 386,
       "height": 279
      }
     },
     "output_type": "display_data"
    }
   ]
  },
  {
   "cell_type": "markdown",
   "source": "<a style='text-decoration:none;line-height:16px;display:flex;color:#5B5B62;padding:10px;justify-content:end;' href='https://deepnote.com?utm_source=created-in-deepnote-cell&projectId=6ee9a0e1-5142-4a5e-b221-8d22021093a4' target=\"_blank\">\n<img alt='Created in deepnote.com' style='display:inline;max-height:16px;margin:0px;margin-right:7.5px;' src='data:image/svg+xml;base64,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' > </img>\nCreated in <span style='font-weight:600;margin-left:4px;'>Deepnote</span></a>",
   "metadata": {
    "tags": [],
    "created_in_deepnote_cell": true,
    "deepnote_cell_type": "markdown"
   }
  }
 ],
 "nbformat": 4,
 "nbformat_minor": 2,
 "metadata": {
  "orig_nbformat": 2,
  "deepnote": {},
  "deepnote_notebook_id": "273de377-070a-416e-b224-e114470db2e5",
  "deepnote_execution_queue": []
 }
}