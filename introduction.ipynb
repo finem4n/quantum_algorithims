{
 "cells": [
  {
   "cell_type": "markdown",
   "source": "# Qubits and quantum&nbsp;gates",
   "metadata": {
    "formattedRanges": [],
    "cell_id": "a43c5e13e2434b459c1d79041e46ed19",
    "tags": [],
    "is_collapsed": false,
    "deepnote_cell_type": "text-cell-h1"
   }
  },
  {
   "cell_type": "markdown",
   "source": "**Qubit** (quantum bit) is a basic unit of quantum information. In quantum computer they are represented by elemental particles. Their charges act as representation of 1s and 0s. In contrary to classic bits,  qubits can store more than one information simultaneously. E.g. 2 bit register can store one of four number (00, 01, 10, 11) at a time and 2 qubit register can store them all at once. It's because of 2 quantum phenomenon: superposition and entanglement.\n",
   "metadata": {
    "cell_id": "d50ea1def842410f96a251bcf0847f8a",
    "tags": [],
    "deepnote_cell_type": "markdown",
    "deepnote_cell_height": 164.34375
   }
  },
  {
   "cell_type": "markdown",
   "source": "Qubit is represented by normed vector of two dimensional Hilbert space. $|\\Psi\\rangle=\\alpha|0\\rangle+\\beta|1\\rangle$, <br>\nwhere: <br>\n$\\alpha$ and $\\beta$ are the amplitudes of probability that $|\\alpha|^2+|\\beta|^2=1$;<br>\n$|0\\rangle=\\left[{\\begin{array}{cc}1\\\\0 \\end{array}}\\right]$ and $|1\\rangle=\\left[{\\begin{array}{cc}0\\\\1 \\end{array}}\\right]$  are the possible state for qubit.\n",
   "metadata": {
    "cell_id": "4bd82fa860ee4e759069c7098d0c6c46",
    "tags": [],
    "deepnote_cell_type": "markdown",
    "deepnote_cell_height": 160.21875
   }
  },
  {
   "cell_type": "markdown",
   "source": "Another representation of single qubit is **Bloch sphere**. It is a unit sphere which: <br>\n- two orthogonal z-basis states are $|0\\rangle$ and $|1\\rangle$ <br>\n- two orthogonal x-basis states are $|+\\rangle=\\frac{|0\\rangle+|1\\rangle}{\\sqrt{2}}$ and $|-\\rangle=\\frac{|0\\rangle-|1\\rangle}{\\sqrt{2}}$ <br>\n- two orthogonal y-basis states are $|R\\rangle=\\frac{|0\\rangle+i|1\\rangle}{\\sqrt{2}}$ and $|L\\rangle=\\frac{|0\\rangle-i|1\\rangle}{\\sqrt{2}}$\nIts graphical represantation is shown below. ",
   "metadata": {
    "cell_id": "f5787a1a0ea645b2a69fc709b958ff45",
    "tags": [],
    "deepnote_cell_type": "markdown",
    "deepnote_cell_height": 183.609375
   }
  },
  {
   "cell_type": "markdown",
   "source": "<img src='img/bloch.png' width=\"350\" height=\"350\"> <br> \nsource: qiskit.org",
   "metadata": {
    "cell_id": "cc59621c911b492db67dd1faf0b89357",
    "tags": [],
    "deepnote_cell_type": "markdown",
    "deepnote_cell_height": 403.03125
   }
  },
  {
   "cell_type": "markdown",
   "source": "In classical computing there are logical gates that operates on bits. Similarly, in quantum computing **quantum gates** are used. They are unitary operators and are descibed as unitary matrices.<br>\n<img src='img/matrices.png'> <br>\nsource: wikipedia.org <br>\n\nThese operation can also be represented as rotations of state in Bloch sphere.",
   "metadata": {
    "cell_id": "f2219f2f50b344dbbedd40672ad0d128",
    "tags": [],
    "deepnote_cell_type": "markdown",
    "deepnote_cell_height": 810.953125
   }
  },
  {
   "cell_type": "markdown",
   "source": "## OpenQl",
   "metadata": {
    "cell_id": "a9ca037684a54e44979e5140840c48f2",
    "tags": [],
    "is_collapsed": false,
    "formattedRanges": [],
    "deepnote_cell_type": "text-cell-h2"
   }
  },
  {
   "cell_type": "markdown",
   "source": "**OpenQl** is a framework for high-level quantum programing in C++/Python. Its compiler produces files in cQASM language that can be simulated on **QX simulator**.<br>\n\nOther files show its implementations in quantum algorithms.",
   "metadata": {
    "cell_id": "0b3d8f21c5454decb1016ee12bf82c1b",
    "tags": [],
    "owner_user_id": "f7367d93-0a31-43e2-908d-e60e4ef8131b",
    "deepnote_cell_type": "markdown",
    "deepnote_cell_height": 133.5625
   }
  },
  {
   "cell_type": "markdown",
   "source": "<a style='text-decoration:none;line-height:16px;display:flex;color:#5B5B62;padding:10px;justify-content:end;' href='https://deepnote.com?utm_source=created-in-deepnote-cell&projectId=6ee9a0e1-5142-4a5e-b221-8d22021093a4' target=\"_blank\">\n<img alt='Created in deepnote.com' style='display:inline;max-height:16px;margin:0px;margin-right:7.5px;' src='data:image/svg+xml;base64,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' > </img>\nCreated in <span style='font-weight:600;margin-left:4px;'>Deepnote</span></a>",
   "metadata": {
    "tags": [],
    "created_in_deepnote_cell": true,
    "deepnote_cell_type": "markdown"
   }
  }
 ],
 "nbformat": 4,
 "nbformat_minor": 2,
 "metadata": {
  "orig_nbformat": 2,
  "deepnote": {},
  "deepnote_notebook_id": "c8dcdb03-5feb-4ad7-bc96-be589e44c2dc",
  "deepnote_execution_queue": []
 }
}
