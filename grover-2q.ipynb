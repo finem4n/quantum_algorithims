{
 "cells": [
  {
   "cell_type": "markdown",
   "source": "### Grover's Algorithm",
   "metadata": {
    "formattedRanges": [],
    "cell_id": "303f04d004bb4242b05e625c819d9323",
    "tags": [],
    "is_collapsed": false,
    "owner_user_id": "f7367d93-0a31-43e2-908d-e60e4ef8131b",
    "deepnote_cell_type": "text-cell-h3"
   }
  },
  {
   "cell_type": "markdown",
   "source": "opisac troche co robi,\nustalic jezyk opisow",
   "metadata": {
    "cell_id": "93706f4a041a4b1c8ca216e2847beb3f",
    "tags": [],
    "deepnote_cell_type": "markdown",
    "deepnote_cell_height": 52.399993896484375
   }
  },
  {
   "cell_type": "markdown",
   "source": "Algorytm Grovera pozwala na zmniejszenie czasu wyszukiwania poprzez zmniejszenie rzędu złożoności obliczeniowej z $O(N)$ aż do $O(\\sqrt N)$ ",
   "metadata": {
    "cell_id": "8b5308ba0cf74bc4a1c1d29985cabdec",
    "tags": [],
    "owner_user_id": "8a33e656-f8d0-4e06-8263-ef17aee7f006",
    "deepnote_cell_type": "markdown",
    "deepnote_cell_height": 74.80000305175781
   }
  },
  {
   "cell_type": "code",
   "metadata": {
    "tags": [],
    "cell_id": "b33db527-c70d-49d9-a392-70d643d9e031",
    "deepnote_to_be_reexecuted": false,
    "source_hash": "96e2a67",
    "execution_start": 1655480921139,
    "execution_millis": 935,
    "deepnote_cell_type": "code",
    "deepnote_cell_height": 153
   },
   "source": "from openql import openql as ql\nimport hisplot as hp\nimport matplotlib.pyplot as plt\nimport numpy as np\nimport os",
   "outputs": [],
   "execution_count": null
  },
  {
   "cell_type": "code",
   "metadata": {
    "cell_id": "6a6ee4631da646d581c50fd178ea55c3",
    "tags": [],
    "deepnote_to_be_reexecuted": false,
    "source_hash": "4c160ca8",
    "execution_start": 1655480922081,
    "execution_millis": 16,
    "deepnote_cell_type": "code",
    "deepnote_cell_height": 135
   },
   "source": "rootDir = os.path.dirname(os.path.realpath(\"grover-2q.ipynb\"))\ncurdir = os.path.dirname(\"grover-2q.ipynb\")\noutput_dir = os.path.join(curdir, 'grover-2q_output')\nnum_qubits = 2",
   "outputs": [],
   "execution_count": null
  },
  {
   "cell_type": "code",
   "metadata": {
    "cell_id": "ce9eb18fed7a48c3a3d1b5e9e49f4740",
    "tags": [],
    "deepnote_to_be_reexecuted": false,
    "source_hash": "92fe9fee",
    "execution_start": 1655480922138,
    "execution_millis": 1,
    "deepnote_cell_type": "code",
    "deepnote_cell_height": 171
   },
   "source": "ql.set_option('output_dir', output_dir)\n\nplatform = ql.Platform('platform', 'none')\nkernel = ql.Kernel('grover_kernel', platform, num_qubits)\nprogram = ql.Program('grover', platform, num_qubits)\n",
   "outputs": [],
   "execution_count": null
  },
  {
   "cell_type": "markdown",
   "source": "Initializing",
   "metadata": {
    "cell_id": "a5483ca17d2d4576a01904ac311b96ea",
    "tags": [],
    "deepnote_cell_type": "markdown",
    "deepnote_cell_height": 52.399993896484375
   }
  },
  {
   "cell_type": "code",
   "metadata": {
    "cell_id": "06629570a6fb4ab8b0c18b0dc790d81d",
    "tags": [],
    "deepnote_to_be_reexecuted": false,
    "source_hash": "9cad5c7e",
    "execution_start": 1655480922140,
    "execution_millis": 5995228,
    "deepnote_cell_type": "code",
    "deepnote_cell_height": 99
   },
   "source": "kernel.hadamard(0)\nkernel.hadamard(1)",
   "outputs": [],
   "execution_count": null
  },
  {
   "cell_type": "markdown",
   "source": "Choosing state |11⟩ to be a winner (Oracle)",
   "metadata": {
    "cell_id": "1b47066ab1fc427eba35643de4b418be",
    "tags": [],
    "deepnote_cell_type": "markdown",
    "deepnote_cell_height": 52.399993896484375
   }
  },
  {
   "cell_type": "code",
   "source": "kernel.cz(0, 1)",
   "metadata": {
    "cell_id": "83d337d7b25f4591ad31f1cd7f5f950c",
    "tags": [],
    "deepnote_to_be_reexecuted": false,
    "source_hash": "1a06b058",
    "execution_start": 1655480922141,
    "deepnote_cell_type": "code",
    "deepnote_cell_height": 81
   },
   "outputs": [],
   "execution_count": null
  },
  {
   "cell_type": "markdown",
   "source": "Diffuser",
   "metadata": {
    "cell_id": "5e2b89bc2adf40428b9683f96451e595",
    "tags": [],
    "deepnote_cell_type": "markdown",
    "deepnote_cell_height": 52.399993896484375
   }
  },
  {
   "cell_type": "code",
   "metadata": {
    "cell_id": "5700d915fec64d80bd6a1c618ec3ea36",
    "tags": [],
    "deepnote_to_be_reexecuted": false,
    "source_hash": "6a13da3f",
    "execution_start": 1655480922145,
    "execution_millis": 5995212,
    "deepnote_cell_type": "code",
    "deepnote_cell_height": 243
   },
   "source": "kernel.hadamard(0)\nkernel.hadamard(1)\n\nkernel.z(0)\nkernel.z(1)\n\nkernel.cz(0, 1)\n\nkernel.hadamard(0)\nkernel.hadamard(1)",
   "outputs": [],
   "execution_count": null
  },
  {
   "cell_type": "markdown",
   "source": "Measurement",
   "metadata": {
    "cell_id": "bd12868936dc498298ced924e9a60240",
    "tags": [],
    "deepnote_cell_type": "markdown",
    "deepnote_cell_height": 52.399993896484375
   }
  },
  {
   "cell_type": "code",
   "source": "kernel.measure(0)\nkernel.measure(1)",
   "metadata": {
    "cell_id": "55a60132f5fa465aaa1ba703e2171629",
    "tags": [],
    "deepnote_to_be_reexecuted": false,
    "source_hash": "5d400c1",
    "execution_start": 1655480922150,
    "deepnote_cell_type": "code",
    "deepnote_cell_height": 99
   },
   "outputs": [],
   "execution_count": null
  },
  {
   "cell_type": "code",
   "metadata": {
    "cell_id": "af477fd36e034ef6b3a6867c3794dc74",
    "tags": [],
    "deepnote_to_be_reexecuted": false,
    "source_hash": "6a24a6ea",
    "execution_start": 1655480922158,
    "execution_millis": 0,
    "deepnote_cell_type": "code",
    "deepnote_cell_height": 117
   },
   "source": "program.add_kernel(kernel)\nprogram.compile()\n",
   "outputs": [],
   "execution_count": null
  },
  {
   "cell_type": "markdown",
   "source": "Simulation",
   "metadata": {
    "cell_id": "7fdb1f0c30ab4c9f8714b7b9dc298e59",
    "tags": [],
    "deepnote_cell_type": "markdown",
    "deepnote_cell_height": 52.399993896484375
   }
  },
  {
   "cell_type": "code",
   "metadata": {
    "cell_id": "57b243510f6b461ebc55989452bfad3f",
    "tags": [],
    "deepnote_to_be_reexecuted": false,
    "source_hash": "62ae52ad",
    "execution_start": 1655480922166,
    "execution_millis": 132,
    "deepnote_cell_type": "code",
    "deepnote_cell_height": 333
   },
   "source": "import qxelarator\nfrom functools import reduce\n\nqx = qxelarator.QX()\nqx.set('grover-2q_output/grover.qasm')\n\nntests = 1000\nresults = []\n\nfor i in range(ntests):\n    qx.execute()\n    res = [int(qx.get_measurement_outcome(q)) for q in range(num_qubits)]\n    result = reduce(lambda x, y: x + str(y), res, \"|\") + \"⟩\"\n    results.append(result)\n    ",
   "outputs": [],
   "execution_count": null
  },
  {
   "cell_type": "code",
   "metadata": {
    "cell_id": "fa15c75b118e449f99bd71a171e6e777",
    "tags": [],
    "deepnote_to_be_reexecuted": false,
    "source_hash": "330da636",
    "execution_start": 1655480922305,
    "execution_millis": 241,
    "deepnote_cell_type": "code",
    "deepnote_cell_height": 378,
    "deepnote_output_heights": [
     281
    ]
   },
   "source": "hp.plot_histogram(results)",
   "outputs": [
    {
     "data": {
      "text/plain": "<Figure size 432x288 with 1 Axes>",
      "image/png": "[encoded data removed]"
     },
     "metadata": {
      "needs_background": "light",
      "image/png": {
       "width": 386,
       "height": 279
      }
     },
     "output_type": "display_data"
    }
   ],
   "execution_count": null
  },
  {
   "cell_type": "markdown",
   "source": "Wniosek",
   "metadata": {
    "cell_id": "211e557b218b46b29772e48749679f91",
    "tags": [],
    "deepnote_cell_type": "markdown",
    "deepnote_cell_height": 52.399993896484375
   }
  },
  {
   "cell_type": "markdown",
   "source": "<a style='text-decoration:none;line-height:16px;display:flex;color:#5B5B62;padding:10px;justify-content:end;' href='https://deepnote.com?utm_source=created-in-deepnote-cell&projectId=6ee9a0e1-5142-4a5e-b221-8d22021093a4' target=\"_blank\">\n<img alt='Created in deepnote.com' style='display:inline;max-height:16px;margin:0px;margin-right:7.5px;' src='data:image/svg+xml;base64,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' > </img>\nCreated in <span style='font-weight:600;margin-left:4px;'>Deepnote</span></a>",
   "metadata": {
    "tags": [],
    "created_in_deepnote_cell": true,
    "deepnote_cell_type": "markdown"
   }
  }
 ],
 "nbformat": 4,
 "nbformat_minor": 2,
 "metadata": {
  "orig_nbformat": 2,
  "deepnote": {},
  "deepnote_notebook_id": "0672bf9a-0669-4868-b0eb-388807b0e85f",
  "deepnote_execution_queue": []
 }
}